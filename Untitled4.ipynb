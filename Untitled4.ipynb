{
  "nbformat": 4,
  "nbformat_minor": 0,
  "metadata": {
    "colab": {
      "provenance": []
    },
    "kernelspec": {
      "name": "python3",
      "display_name": "Python 3"
    },
    "language_info": {
      "name": "python"
    }
  },
  "cells": [
    {
      "cell_type": "code",
      "execution_count": 4,
      "metadata": {
        "colab": {
          "base_uri": "https://localhost:8080/"
        },
        "id": "X_nLzi7N9bOY",
        "outputId": "cbc74729-34aa-4b7e-d6d5-624cb9557040"
      },
      "outputs": [
        {
          "output_type": "stream",
          "name": "stdout",
          "text": [
            "<class 'str'>\n",
            "<class 'str'>\n",
            "list['糠孟桓', 'B1205018']\n"
          ]
        }
      ],
      "source": [
        "\n",
        "a=\"糠孟桓\"\n",
        "b=\"B1205018\"\n",
        "print(type(a))\n",
        "print(type(b))\n",
        "c=list[a,b]\n",
        "print(c)\n"
      ]
    }
  ]
}